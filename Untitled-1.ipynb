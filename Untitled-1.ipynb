{
 "cells": [
  {
   "cell_type": "code",
   "execution_count": null,
   "id": "af37b059",
   "metadata": {},
   "outputs": [
    {
     "name": "stdout",
     "output_type": "stream",
     "text": [
      "\n",
      "🔄 Đang xử lý ngân hàng: VPB\n"
     ]
    },
    {
     "name": "stderr",
     "output_type": "stream",
     "text": [
      "C:\\Users\\THANH DANG\\AppData\\Local\\Temp\\ipykernel_36088\\3607778793.py:57: FutureWarning: Passing literal html to 'read_html' is deprecated and will be removed in a future version. To read from a literal string, wrap it in a 'StringIO' object.\n",
      "  df = pd.read_html(html)[0]\n"
     ]
    },
    {
     "name": "stdout",
     "output_type": "stream",
     "text": [
      "✅ Đã lưu VPB_BCTT.xlsx (20 dòng)\n"
     ]
    },
    {
     "name": "stderr",
     "output_type": "stream",
     "text": [
      "C:\\Users\\THANH DANG\\AppData\\Local\\Temp\\ipykernel_36088\\3607778793.py:57: FutureWarning: Passing literal html to 'read_html' is deprecated and will be removed in a future version. To read from a literal string, wrap it in a 'StringIO' object.\n",
      "  df = pd.read_html(html)[0]\n"
     ]
    },
    {
     "name": "stdout",
     "output_type": "stream",
     "text": [
      "✅ Đã lưu VPB_CDKT.xlsx (65 dòng)\n"
     ]
    },
    {
     "name": "stderr",
     "output_type": "stream",
     "text": [
      "C:\\Users\\THANH DANG\\AppData\\Local\\Temp\\ipykernel_36088\\3607778793.py:57: FutureWarning: Passing literal html to 'read_html' is deprecated and will be removed in a future version. To read from a literal string, wrap it in a 'StringIO' object.\n",
      "  df = pd.read_html(html)[0]\n"
     ]
    },
    {
     "name": "stdout",
     "output_type": "stream",
     "text": [
      "✅ Đã lưu VPB_KQKD.xlsx (30 dòng)\n"
     ]
    },
    {
     "name": "stderr",
     "output_type": "stream",
     "text": [
      "C:\\Users\\THANH DANG\\AppData\\Local\\Temp\\ipykernel_36088\\3607778793.py:57: FutureWarning: Passing literal html to 'read_html' is deprecated and will be removed in a future version. To read from a literal string, wrap it in a 'StringIO' object.\n",
      "  df = pd.read_html(html)[0]\n"
     ]
    },
    {
     "name": "stdout",
     "output_type": "stream",
     "text": [
      "✅ Đã lưu VPB_LC.xlsx (56 dòng)\n"
     ]
    },
    {
     "name": "stderr",
     "output_type": "stream",
     "text": [
      "C:\\Users\\THANH DANG\\AppData\\Local\\Temp\\ipykernel_36088\\3607778793.py:57: FutureWarning: Passing literal html to 'read_html' is deprecated and will be removed in a future version. To read from a literal string, wrap it in a 'StringIO' object.\n",
      "  df = pd.read_html(html)[0]\n"
     ]
    },
    {
     "name": "stdout",
     "output_type": "stream",
     "text": [
      "✅ Đã lưu VPB_CSTC.xlsx (37 dòng)\n"
     ]
    },
    {
     "name": "stderr",
     "output_type": "stream",
     "text": [
      "C:\\Users\\THANH DANG\\AppData\\Local\\Temp\\ipykernel_36088\\3607778793.py:57: FutureWarning: Passing literal html to 'read_html' is deprecated and will be removed in a future version. To read from a literal string, wrap it in a 'StringIO' object.\n",
      "  df = pd.read_html(html)[0]\n"
     ]
    },
    {
     "name": "stdout",
     "output_type": "stream",
     "text": [
      "✅ Đã lưu VPB_TM.xlsx (55 dòng)\n",
      "\n",
      "🔄 Đang xử lý ngân hàng: CTG\n"
     ]
    },
    {
     "name": "stderr",
     "output_type": "stream",
     "text": [
      "C:\\Users\\THANH DANG\\AppData\\Local\\Temp\\ipykernel_36088\\3607778793.py:57: FutureWarning: Passing literal html to 'read_html' is deprecated and will be removed in a future version. To read from a literal string, wrap it in a 'StringIO' object.\n",
      "  df = pd.read_html(html)[0]\n"
     ]
    },
    {
     "name": "stdout",
     "output_type": "stream",
     "text": [
      "✅ Đã lưu CTG_BCTT.xlsx (20 dòng)\n"
     ]
    },
    {
     "name": "stderr",
     "output_type": "stream",
     "text": [
      "C:\\Users\\THANH DANG\\AppData\\Local\\Temp\\ipykernel_36088\\3607778793.py:57: FutureWarning: Passing literal html to 'read_html' is deprecated and will be removed in a future version. To read from a literal string, wrap it in a 'StringIO' object.\n",
      "  df = pd.read_html(html)[0]\n"
     ]
    },
    {
     "name": "stdout",
     "output_type": "stream",
     "text": [
      "✅ Đã lưu CTG_CDKT.xlsx (65 dòng)\n"
     ]
    },
    {
     "name": "stderr",
     "output_type": "stream",
     "text": [
      "C:\\Users\\THANH DANG\\AppData\\Local\\Temp\\ipykernel_36088\\3607778793.py:57: FutureWarning: Passing literal html to 'read_html' is deprecated and will be removed in a future version. To read from a literal string, wrap it in a 'StringIO' object.\n",
      "  df = pd.read_html(html)[0]\n"
     ]
    },
    {
     "name": "stdout",
     "output_type": "stream",
     "text": [
      "✅ Đã lưu CTG_KQKD.xlsx (30 dòng)\n"
     ]
    },
    {
     "name": "stderr",
     "output_type": "stream",
     "text": [
      "C:\\Users\\THANH DANG\\AppData\\Local\\Temp\\ipykernel_36088\\3607778793.py:57: FutureWarning: Passing literal html to 'read_html' is deprecated and will be removed in a future version. To read from a literal string, wrap it in a 'StringIO' object.\n",
      "  df = pd.read_html(html)[0]\n"
     ]
    },
    {
     "name": "stdout",
     "output_type": "stream",
     "text": [
      "✅ Đã lưu CTG_LC.xlsx (56 dòng)\n"
     ]
    },
    {
     "name": "stderr",
     "output_type": "stream",
     "text": [
      "C:\\Users\\THANH DANG\\AppData\\Local\\Temp\\ipykernel_36088\\3607778793.py:57: FutureWarning: Passing literal html to 'read_html' is deprecated and will be removed in a future version. To read from a literal string, wrap it in a 'StringIO' object.\n",
      "  df = pd.read_html(html)[0]\n"
     ]
    },
    {
     "name": "stdout",
     "output_type": "stream",
     "text": [
      "✅ Đã lưu CTG_CSTC.xlsx (37 dòng)\n"
     ]
    },
    {
     "name": "stderr",
     "output_type": "stream",
     "text": [
      "C:\\Users\\THANH DANG\\AppData\\Local\\Temp\\ipykernel_36088\\3607778793.py:57: FutureWarning: Passing literal html to 'read_html' is deprecated and will be removed in a future version. To read from a literal string, wrap it in a 'StringIO' object.\n",
      "  df = pd.read_html(html)[0]\n"
     ]
    },
    {
     "name": "stdout",
     "output_type": "stream",
     "text": [
      "✅ Đã lưu CTG_TM.xlsx (55 dòng)\n",
      "\n",
      "🔄 Đang xử lý ngân hàng: VCB\n"
     ]
    },
    {
     "name": "stderr",
     "output_type": "stream",
     "text": [
      "C:\\Users\\THANH DANG\\AppData\\Local\\Temp\\ipykernel_36088\\3607778793.py:57: FutureWarning: Passing literal html to 'read_html' is deprecated and will be removed in a future version. To read from a literal string, wrap it in a 'StringIO' object.\n",
      "  df = pd.read_html(html)[0]\n"
     ]
    },
    {
     "name": "stdout",
     "output_type": "stream",
     "text": [
      "✅ Đã lưu VCB_BCTT.xlsx (20 dòng)\n"
     ]
    },
    {
     "name": "stderr",
     "output_type": "stream",
     "text": [
      "C:\\Users\\THANH DANG\\AppData\\Local\\Temp\\ipykernel_36088\\3607778793.py:57: FutureWarning: Passing literal html to 'read_html' is deprecated and will be removed in a future version. To read from a literal string, wrap it in a 'StringIO' object.\n",
      "  df = pd.read_html(html)[0]\n"
     ]
    },
    {
     "name": "stdout",
     "output_type": "stream",
     "text": [
      "✅ Đã lưu VCB_CDKT.xlsx (65 dòng)\n"
     ]
    },
    {
     "name": "stderr",
     "output_type": "stream",
     "text": [
      "C:\\Users\\THANH DANG\\AppData\\Local\\Temp\\ipykernel_36088\\3607778793.py:57: FutureWarning: Passing literal html to 'read_html' is deprecated and will be removed in a future version. To read from a literal string, wrap it in a 'StringIO' object.\n",
      "  df = pd.read_html(html)[0]\n"
     ]
    },
    {
     "name": "stdout",
     "output_type": "stream",
     "text": [
      "✅ Đã lưu VCB_KQKD.xlsx (30 dòng)\n"
     ]
    },
    {
     "name": "stderr",
     "output_type": "stream",
     "text": [
      "C:\\Users\\THANH DANG\\AppData\\Local\\Temp\\ipykernel_36088\\3607778793.py:57: FutureWarning: Passing literal html to 'read_html' is deprecated and will be removed in a future version. To read from a literal string, wrap it in a 'StringIO' object.\n",
      "  df = pd.read_html(html)[0]\n"
     ]
    },
    {
     "name": "stdout",
     "output_type": "stream",
     "text": [
      "✅ Đã lưu VCB_LC.xlsx (56 dòng)\n"
     ]
    },
    {
     "name": "stderr",
     "output_type": "stream",
     "text": [
      "C:\\Users\\THANH DANG\\AppData\\Local\\Temp\\ipykernel_36088\\3607778793.py:57: FutureWarning: Passing literal html to 'read_html' is deprecated and will be removed in a future version. To read from a literal string, wrap it in a 'StringIO' object.\n",
      "  df = pd.read_html(html)[0]\n"
     ]
    },
    {
     "name": "stdout",
     "output_type": "stream",
     "text": [
      "✅ Đã lưu VCB_CSTC.xlsx (37 dòng)\n"
     ]
    },
    {
     "name": "stderr",
     "output_type": "stream",
     "text": [
      "C:\\Users\\THANH DANG\\AppData\\Local\\Temp\\ipykernel_36088\\3607778793.py:57: FutureWarning: Passing literal html to 'read_html' is deprecated and will be removed in a future version. To read from a literal string, wrap it in a 'StringIO' object.\n",
      "  df = pd.read_html(html)[0]\n"
     ]
    },
    {
     "name": "stdout",
     "output_type": "stream",
     "text": [
      "✅ Đã lưu VCB_TM.xlsx (55 dòng)\n",
      "\n",
      "🔄 Đang xử lý ngân hàng: TCB\n"
     ]
    },
    {
     "name": "stderr",
     "output_type": "stream",
     "text": [
      "C:\\Users\\THANH DANG\\AppData\\Local\\Temp\\ipykernel_36088\\3607778793.py:57: FutureWarning: Passing literal html to 'read_html' is deprecated and will be removed in a future version. To read from a literal string, wrap it in a 'StringIO' object.\n",
      "  df = pd.read_html(html)[0]\n"
     ]
    },
    {
     "name": "stdout",
     "output_type": "stream",
     "text": [
      "✅ Đã lưu TCB_BCTT.xlsx (20 dòng)\n"
     ]
    },
    {
     "name": "stderr",
     "output_type": "stream",
     "text": [
      "C:\\Users\\THANH DANG\\AppData\\Local\\Temp\\ipykernel_36088\\3607778793.py:57: FutureWarning: Passing literal html to 'read_html' is deprecated and will be removed in a future version. To read from a literal string, wrap it in a 'StringIO' object.\n",
      "  df = pd.read_html(html)[0]\n"
     ]
    },
    {
     "name": "stdout",
     "output_type": "stream",
     "text": [
      "✅ Đã lưu TCB_CDKT.xlsx (65 dòng)\n"
     ]
    },
    {
     "name": "stderr",
     "output_type": "stream",
     "text": [
      "C:\\Users\\THANH DANG\\AppData\\Local\\Temp\\ipykernel_36088\\3607778793.py:57: FutureWarning: Passing literal html to 'read_html' is deprecated and will be removed in a future version. To read from a literal string, wrap it in a 'StringIO' object.\n",
      "  df = pd.read_html(html)[0]\n"
     ]
    },
    {
     "name": "stdout",
     "output_type": "stream",
     "text": [
      "✅ Đã lưu TCB_KQKD.xlsx (30 dòng)\n"
     ]
    },
    {
     "name": "stderr",
     "output_type": "stream",
     "text": [
      "C:\\Users\\THANH DANG\\AppData\\Local\\Temp\\ipykernel_36088\\3607778793.py:57: FutureWarning: Passing literal html to 'read_html' is deprecated and will be removed in a future version. To read from a literal string, wrap it in a 'StringIO' object.\n",
      "  df = pd.read_html(html)[0]\n"
     ]
    },
    {
     "name": "stdout",
     "output_type": "stream",
     "text": [
      "✅ Đã lưu TCB_LC.xlsx (56 dòng)\n"
     ]
    },
    {
     "name": "stderr",
     "output_type": "stream",
     "text": [
      "C:\\Users\\THANH DANG\\AppData\\Local\\Temp\\ipykernel_36088\\3607778793.py:57: FutureWarning: Passing literal html to 'read_html' is deprecated and will be removed in a future version. To read from a literal string, wrap it in a 'StringIO' object.\n",
      "  df = pd.read_html(html)[0]\n"
     ]
    },
    {
     "name": "stdout",
     "output_type": "stream",
     "text": [
      "✅ Đã lưu TCB_CSTC.xlsx (37 dòng)\n"
     ]
    },
    {
     "name": "stderr",
     "output_type": "stream",
     "text": [
      "C:\\Users\\THANH DANG\\AppData\\Local\\Temp\\ipykernel_36088\\3607778793.py:57: FutureWarning: Passing literal html to 'read_html' is deprecated and will be removed in a future version. To read from a literal string, wrap it in a 'StringIO' object.\n",
      "  df = pd.read_html(html)[0]\n"
     ]
    },
    {
     "name": "stdout",
     "output_type": "stream",
     "text": [
      "✅ Đã lưu TCB_TM.xlsx (55 dòng)\n",
      "\n",
      "🔄 Đang xử lý ngân hàng: MBB\n"
     ]
    },
    {
     "name": "stderr",
     "output_type": "stream",
     "text": [
      "C:\\Users\\THANH DANG\\AppData\\Local\\Temp\\ipykernel_36088\\3607778793.py:57: FutureWarning: Passing literal html to 'read_html' is deprecated and will be removed in a future version. To read from a literal string, wrap it in a 'StringIO' object.\n",
      "  df = pd.read_html(html)[0]\n"
     ]
    },
    {
     "name": "stdout",
     "output_type": "stream",
     "text": [
      "✅ Đã lưu MBB_BCTT.xlsx (20 dòng)\n"
     ]
    },
    {
     "name": "stderr",
     "output_type": "stream",
     "text": [
      "C:\\Users\\THANH DANG\\AppData\\Local\\Temp\\ipykernel_36088\\3607778793.py:57: FutureWarning: Passing literal html to 'read_html' is deprecated and will be removed in a future version. To read from a literal string, wrap it in a 'StringIO' object.\n",
      "  df = pd.read_html(html)[0]\n"
     ]
    },
    {
     "name": "stdout",
     "output_type": "stream",
     "text": [
      "✅ Đã lưu MBB_CDKT.xlsx (65 dòng)\n"
     ]
    },
    {
     "name": "stderr",
     "output_type": "stream",
     "text": [
      "C:\\Users\\THANH DANG\\AppData\\Local\\Temp\\ipykernel_36088\\3607778793.py:57: FutureWarning: Passing literal html to 'read_html' is deprecated and will be removed in a future version. To read from a literal string, wrap it in a 'StringIO' object.\n",
      "  df = pd.read_html(html)[0]\n"
     ]
    },
    {
     "name": "stdout",
     "output_type": "stream",
     "text": [
      "✅ Đã lưu MBB_KQKD.xlsx (30 dòng)\n"
     ]
    },
    {
     "name": "stderr",
     "output_type": "stream",
     "text": [
      "C:\\Users\\THANH DANG\\AppData\\Local\\Temp\\ipykernel_36088\\3607778793.py:57: FutureWarning: Passing literal html to 'read_html' is deprecated and will be removed in a future version. To read from a literal string, wrap it in a 'StringIO' object.\n",
      "  df = pd.read_html(html)[0]\n"
     ]
    },
    {
     "name": "stdout",
     "output_type": "stream",
     "text": [
      "✅ Đã lưu MBB_LC.xlsx (56 dòng)\n"
     ]
    },
    {
     "name": "stderr",
     "output_type": "stream",
     "text": [
      "C:\\Users\\THANH DANG\\AppData\\Local\\Temp\\ipykernel_36088\\3607778793.py:57: FutureWarning: Passing literal html to 'read_html' is deprecated and will be removed in a future version. To read from a literal string, wrap it in a 'StringIO' object.\n",
      "  df = pd.read_html(html)[0]\n"
     ]
    },
    {
     "name": "stdout",
     "output_type": "stream",
     "text": [
      "✅ Đã lưu MBB_CSTC.xlsx (37 dòng)\n"
     ]
    },
    {
     "name": "stderr",
     "output_type": "stream",
     "text": [
      "C:\\Users\\THANH DANG\\AppData\\Local\\Temp\\ipykernel_36088\\3607778793.py:57: FutureWarning: Passing literal html to 'read_html' is deprecated and will be removed in a future version. To read from a literal string, wrap it in a 'StringIO' object.\n",
      "  df = pd.read_html(html)[0]\n"
     ]
    },
    {
     "name": "stdout",
     "output_type": "stream",
     "text": [
      "✅ Đã lưu MBB_TM.xlsx (55 dòng)\n",
      "\n",
      "🔄 Đang xử lý ngân hàng: ACB\n"
     ]
    },
    {
     "name": "stderr",
     "output_type": "stream",
     "text": [
      "C:\\Users\\THANH DANG\\AppData\\Local\\Temp\\ipykernel_36088\\3607778793.py:57: FutureWarning: Passing literal html to 'read_html' is deprecated and will be removed in a future version. To read from a literal string, wrap it in a 'StringIO' object.\n",
      "  df = pd.read_html(html)[0]\n"
     ]
    },
    {
     "name": "stdout",
     "output_type": "stream",
     "text": [
      "✅ Đã lưu ACB_BCTT.xlsx (20 dòng)\n"
     ]
    },
    {
     "name": "stderr",
     "output_type": "stream",
     "text": [
      "C:\\Users\\THANH DANG\\AppData\\Local\\Temp\\ipykernel_36088\\3607778793.py:57: FutureWarning: Passing literal html to 'read_html' is deprecated and will be removed in a future version. To read from a literal string, wrap it in a 'StringIO' object.\n",
      "  df = pd.read_html(html)[0]\n"
     ]
    },
    {
     "name": "stdout",
     "output_type": "stream",
     "text": [
      "✅ Đã lưu ACB_CDKT.xlsx (65 dòng)\n"
     ]
    },
    {
     "name": "stderr",
     "output_type": "stream",
     "text": [
      "C:\\Users\\THANH DANG\\AppData\\Local\\Temp\\ipykernel_36088\\3607778793.py:57: FutureWarning: Passing literal html to 'read_html' is deprecated and will be removed in a future version. To read from a literal string, wrap it in a 'StringIO' object.\n",
      "  df = pd.read_html(html)[0]\n"
     ]
    },
    {
     "name": "stdout",
     "output_type": "stream",
     "text": [
      "✅ Đã lưu ACB_KQKD.xlsx (30 dòng)\n"
     ]
    },
    {
     "name": "stderr",
     "output_type": "stream",
     "text": [
      "C:\\Users\\THANH DANG\\AppData\\Local\\Temp\\ipykernel_36088\\3607778793.py:57: FutureWarning: Passing literal html to 'read_html' is deprecated and will be removed in a future version. To read from a literal string, wrap it in a 'StringIO' object.\n",
      "  df = pd.read_html(html)[0]\n"
     ]
    },
    {
     "name": "stdout",
     "output_type": "stream",
     "text": [
      "✅ Đã lưu ACB_LC.xlsx (56 dòng)\n"
     ]
    },
    {
     "name": "stderr",
     "output_type": "stream",
     "text": [
      "C:\\Users\\THANH DANG\\AppData\\Local\\Temp\\ipykernel_36088\\3607778793.py:57: FutureWarning: Passing literal html to 'read_html' is deprecated and will be removed in a future version. To read from a literal string, wrap it in a 'StringIO' object.\n",
      "  df = pd.read_html(html)[0]\n"
     ]
    },
    {
     "name": "stdout",
     "output_type": "stream",
     "text": [
      "✅ Đã lưu ACB_CSTC.xlsx (37 dòng)\n"
     ]
    },
    {
     "name": "stderr",
     "output_type": "stream",
     "text": [
      "C:\\Users\\THANH DANG\\AppData\\Local\\Temp\\ipykernel_36088\\3607778793.py:57: FutureWarning: Passing literal html to 'read_html' is deprecated and will be removed in a future version. To read from a literal string, wrap it in a 'StringIO' object.\n",
      "  df = pd.read_html(html)[0]\n"
     ]
    },
    {
     "name": "stdout",
     "output_type": "stream",
     "text": [
      "✅ Đã lưu ACB_TM.xlsx (55 dòng)\n",
      "\n",
      "🔄 Đang xử lý ngân hàng: STB\n"
     ]
    },
    {
     "name": "stderr",
     "output_type": "stream",
     "text": [
      "C:\\Users\\THANH DANG\\AppData\\Local\\Temp\\ipykernel_36088\\3607778793.py:57: FutureWarning: Passing literal html to 'read_html' is deprecated and will be removed in a future version. To read from a literal string, wrap it in a 'StringIO' object.\n",
      "  df = pd.read_html(html)[0]\n"
     ]
    },
    {
     "name": "stdout",
     "output_type": "stream",
     "text": [
      "✅ Đã lưu STB_BCTT.xlsx (20 dòng)\n"
     ]
    },
    {
     "name": "stderr",
     "output_type": "stream",
     "text": [
      "C:\\Users\\THANH DANG\\AppData\\Local\\Temp\\ipykernel_36088\\3607778793.py:57: FutureWarning: Passing literal html to 'read_html' is deprecated and will be removed in a future version. To read from a literal string, wrap it in a 'StringIO' object.\n",
      "  df = pd.read_html(html)[0]\n"
     ]
    },
    {
     "name": "stdout",
     "output_type": "stream",
     "text": [
      "✅ Đã lưu STB_CDKT.xlsx (65 dòng)\n"
     ]
    },
    {
     "name": "stderr",
     "output_type": "stream",
     "text": [
      "C:\\Users\\THANH DANG\\AppData\\Local\\Temp\\ipykernel_36088\\3607778793.py:57: FutureWarning: Passing literal html to 'read_html' is deprecated and will be removed in a future version. To read from a literal string, wrap it in a 'StringIO' object.\n",
      "  df = pd.read_html(html)[0]\n"
     ]
    },
    {
     "name": "stdout",
     "output_type": "stream",
     "text": [
      "✅ Đã lưu STB_KQKD.xlsx (30 dòng)\n"
     ]
    },
    {
     "name": "stderr",
     "output_type": "stream",
     "text": [
      "C:\\Users\\THANH DANG\\AppData\\Local\\Temp\\ipykernel_36088\\3607778793.py:57: FutureWarning: Passing literal html to 'read_html' is deprecated and will be removed in a future version. To read from a literal string, wrap it in a 'StringIO' object.\n",
      "  df = pd.read_html(html)[0]\n"
     ]
    },
    {
     "name": "stdout",
     "output_type": "stream",
     "text": [
      "✅ Đã lưu STB_LC.xlsx (56 dòng)\n"
     ]
    },
    {
     "name": "stderr",
     "output_type": "stream",
     "text": [
      "C:\\Users\\THANH DANG\\AppData\\Local\\Temp\\ipykernel_36088\\3607778793.py:57: FutureWarning: Passing literal html to 'read_html' is deprecated and will be removed in a future version. To read from a literal string, wrap it in a 'StringIO' object.\n",
      "  df = pd.read_html(html)[0]\n"
     ]
    },
    {
     "name": "stdout",
     "output_type": "stream",
     "text": [
      "✅ Đã lưu STB_CSTC.xlsx (37 dòng)\n"
     ]
    },
    {
     "name": "stderr",
     "output_type": "stream",
     "text": [
      "C:\\Users\\THANH DANG\\AppData\\Local\\Temp\\ipykernel_36088\\3607778793.py:57: FutureWarning: Passing literal html to 'read_html' is deprecated and will be removed in a future version. To read from a literal string, wrap it in a 'StringIO' object.\n",
      "  df = pd.read_html(html)[0]\n"
     ]
    },
    {
     "name": "stdout",
     "output_type": "stream",
     "text": [
      "✅ Đã lưu STB_TM.xlsx (55 dòng)\n",
      "\n",
      "🔄 Đang xử lý ngân hàng: HDB\n"
     ]
    },
    {
     "name": "stderr",
     "output_type": "stream",
     "text": [
      "C:\\Users\\THANH DANG\\AppData\\Local\\Temp\\ipykernel_36088\\3607778793.py:57: FutureWarning: Passing literal html to 'read_html' is deprecated and will be removed in a future version. To read from a literal string, wrap it in a 'StringIO' object.\n",
      "  df = pd.read_html(html)[0]\n"
     ]
    },
    {
     "name": "stdout",
     "output_type": "stream",
     "text": [
      "✅ Đã lưu HDB_BCTT.xlsx (20 dòng)\n"
     ]
    },
    {
     "name": "stderr",
     "output_type": "stream",
     "text": [
      "C:\\Users\\THANH DANG\\AppData\\Local\\Temp\\ipykernel_36088\\3607778793.py:57: FutureWarning: Passing literal html to 'read_html' is deprecated and will be removed in a future version. To read from a literal string, wrap it in a 'StringIO' object.\n",
      "  df = pd.read_html(html)[0]\n"
     ]
    },
    {
     "name": "stdout",
     "output_type": "stream",
     "text": [
      "✅ Đã lưu HDB_CDKT.xlsx (65 dòng)\n"
     ]
    },
    {
     "name": "stderr",
     "output_type": "stream",
     "text": [
      "C:\\Users\\THANH DANG\\AppData\\Local\\Temp\\ipykernel_36088\\3607778793.py:57: FutureWarning: Passing literal html to 'read_html' is deprecated and will be removed in a future version. To read from a literal string, wrap it in a 'StringIO' object.\n",
      "  df = pd.read_html(html)[0]\n"
     ]
    },
    {
     "name": "stdout",
     "output_type": "stream",
     "text": [
      "✅ Đã lưu HDB_KQKD.xlsx (30 dòng)\n"
     ]
    },
    {
     "name": "stderr",
     "output_type": "stream",
     "text": [
      "C:\\Users\\THANH DANG\\AppData\\Local\\Temp\\ipykernel_36088\\3607778793.py:57: FutureWarning: Passing literal html to 'read_html' is deprecated and will be removed in a future version. To read from a literal string, wrap it in a 'StringIO' object.\n",
      "  df = pd.read_html(html)[0]\n"
     ]
    },
    {
     "name": "stdout",
     "output_type": "stream",
     "text": [
      "✅ Đã lưu HDB_LC.xlsx (56 dòng)\n"
     ]
    },
    {
     "name": "stderr",
     "output_type": "stream",
     "text": [
      "C:\\Users\\THANH DANG\\AppData\\Local\\Temp\\ipykernel_36088\\3607778793.py:57: FutureWarning: Passing literal html to 'read_html' is deprecated and will be removed in a future version. To read from a literal string, wrap it in a 'StringIO' object.\n",
      "  df = pd.read_html(html)[0]\n"
     ]
    },
    {
     "name": "stdout",
     "output_type": "stream",
     "text": [
      "✅ Đã lưu HDB_CSTC.xlsx (37 dòng)\n"
     ]
    },
    {
     "name": "stderr",
     "output_type": "stream",
     "text": [
      "C:\\Users\\THANH DANG\\AppData\\Local\\Temp\\ipykernel_36088\\3607778793.py:57: FutureWarning: Passing literal html to 'read_html' is deprecated and will be removed in a future version. To read from a literal string, wrap it in a 'StringIO' object.\n",
      "  df = pd.read_html(html)[0]\n"
     ]
    },
    {
     "name": "stdout",
     "output_type": "stream",
     "text": [
      "✅ Đã lưu HDB_TM.xlsx (55 dòng)\n"
     ]
    }
   ],
   "source": [
    "from selenium import webdriver\n",
    "from selenium.webdriver.common.by import By\n",
    "from selenium.webdriver.support.ui import WebDriverWait, Select\n",
    "from selenium.webdriver.support import expected_conditions as EC\n",
    "from selenium.webdriver.common.keys import Keys\n",
    "import time\n",
    "import pandas as pd\n",
    "\n",
    "# === DANH SÁCH NGÂN HÀNG ===\n",
    "banks = [\"VPB\", \"CTG\", \"VCB\", \"TCB\", \"MBB\", \"ACB\", \"STB\", \"HDB\"]\n",
    "\n",
    "# === CÁC TAB CẦN LẤY ===\n",
    "tabs = [\n",
    "    {\"tab\": \"BCTT\", \"table_id\": \"tbl-data-BCTT-KQ\"},\n",
    "    {\"tab\": \"CDKT\", \"table_id\": \"tbl-data-CDKT\"},\n",
    "    {\"tab\": \"KQKD\", \"table_id\": \"tbl-data-KQKD\"},\n",
    "    {\"tab\": \"LC\",   \"table_id\": \"tbl-data-LCTT-direct\"},\n",
    "    {\"tab\": \"CSTC\", \"table_id\": \"tbl-data-CSTC\"},\n",
    "    {\"tab\": \"TM\",   \"table_id\": \"tbl-data-TM\"},\n",
    "]\n",
    "\n",
    "# === KHỞI TẠO TRÌNH DUYỆT CHROME ===\n",
    "driver = webdriver.Chrome()\n",
    "wait = WebDriverWait(driver, 20)\n",
    "\n",
    "# === ĐĂNG NHẬP MỘT LẦN ===\n",
    "driver.get(\"https://finance.vietstock.vn/BID/tai-chinh.htm?tab=CSTC\")\n",
    "time.sleep(5)\n",
    "username = driver.find_element(By.ID, \"txtEmailLogin\")\n",
    "password = driver.find_element(By.ID, \"passwordLogin\")\n",
    "username.send_keys(\"dangtranthanh0499@gmail.com\")\n",
    "password.send_keys(\"Thanhdang19\")\n",
    "password.send_keys(Keys.RETURN)\n",
    "time.sleep(5)\n",
    "\n",
    "# === LẶP QUA TỪNG NGÂN HÀNG ===\n",
    "for bank in banks:\n",
    "    print(f\"\\n🔄 Đang xử lý ngân hàng: {bank}\")\n",
    "    for t in tabs:\n",
    "        url = f\"https://finance.vietstock.vn/{bank}/tai-chinh.htm?tab={t['tab']}\"\n",
    "        driver.get(url)\n",
    "        time.sleep(5)  # đợi page render cơ bản\n",
    "\n",
    "        # Chọn \"Tất cả\" trong dropdown (nếu có)\n",
    "        try:\n",
    "            dropdown = wait.until(EC.presence_of_element_located((By.NAME, \"period\")))\n",
    "            Select(dropdown).select_by_value(\"-1\")\n",
    "            time.sleep(7)  # chờ bảng load lại sau khi đổi dropdown\n",
    "        except:\n",
    "            pass  # có tab không có dropdown\n",
    "\n",
    "        # Đợi bảng xuất hiện và có ít nhất 5 dòng dữ liệu\n",
    "        try:\n",
    "            table = wait.until(EC.presence_of_element_located((By.ID, t[\"table_id\"])))\n",
    "            for _ in range(10):\n",
    "                html = table.get_attribute('outerHTML')\n",
    "                df = pd.read_html(html)[0]\n",
    "                if len(df) > 4:\n",
    "                    break\n",
    "                time.sleep(1)\n",
    "            df = df.loc[:, ~df.columns.str.contains(\"^Unnamed\")]\n",
    "            df.to_excel(f\"{bank}_{t['tab']}.xlsx\", index=False)\n",
    "            print(f\"✅ Đã lưu {bank}_{t['tab']}.xlsx ({len(df)} dòng)\")\n",
    "        except Exception as e:\n",
    "            print(f\"❌ Lỗi ở {bank} - {t['tab']}: {e}\")\n",
    "\n",
    "driver.quit()"
   ]
  },
  {
   "cell_type": "code",
   "execution_count": 2,
   "id": "62189a72",
   "metadata": {},
   "outputs": [
    {
     "name": "stdout",
     "output_type": "stream",
     "text": [
      "✅ ĐÃ GỘP CHUẨN: TM chèn đúng vào Q1, không tạo cột thừa\n"
     ]
    }
   ],
   "source": [
    "import pandas as pd\n",
    "import re\n",
    "\n",
    "tab_sources = {\n",
    "    \"BCTT.xlsx\": \"BCTC\",\n",
    "    \"CDKT.xlsx\": \"CDKT\",\n",
    "    \"KQKD.xlsx\": \"KQKD\",\n",
    "    \"LC.xlsx\": \"LCTT\",\n",
    "    \"CSTC.xlsx\": \"CSTC\",\n",
    "    \"TM.xlsx\": \"Thuyết minh\"\n",
    "}\n",
    "\n",
    "all_dfs = []\n",
    "\n",
    "for file, source in tab_sources.items():\n",
    "    df = pd.read_excel(file)\n",
    "    df = df.loc[:, ~df.columns.str.contains('^Unnamed')]\n",
    "    df.rename(columns={df.columns[0]: \"Chỉ tiêu\"}, inplace=True)\n",
    "\n",
    "    if source == \"Thuyết minh\":\n",
    "        # TM chỉ có cột năm → ta chuyển thành nămQ1, nhưng sẽ GỘP vào nếu đã có cột đó\n",
    "        new_columns = []\n",
    "        for col in df.columns:\n",
    "            if re.fullmatch(r\"\\d{4}\", str(col)):\n",
    "                new_columns.append(f\"{col}Q1\")\n",
    "            else:\n",
    "                new_columns.append(col)\n",
    "        df.columns = new_columns\n",
    "\n",
    "    df[\"Nguồn báo cáo\"] = source\n",
    "    all_dfs.append(df)\n",
    "\n",
    "# === GỘP THÔNG MINH: Nếu cột quý đã tồn tại thì chèn, không tạo cột mới ===\n",
    "from functools import reduce\n",
    "\n",
    "# Khởi đầu bằng bảng đầu tiên\n",
    "final_df = all_dfs[0]\n",
    "\n",
    "for next_df in all_dfs[1:]:\n",
    "    # Gộp theo chỉ tiêu (outer), để không mất dữ liệu\n",
    "    final_df = pd.merge(final_df, next_df, on=\"Chỉ tiêu\", how=\"outer\", suffixes=('', '_dup'))\n",
    "\n",
    "    # Với mỗi cột bị trùng (_dup), gộp giá trị vào cột gốc\n",
    "    for col in final_df.columns:\n",
    "        if col.endswith('_dup'):\n",
    "            main_col = col.replace('_dup', '')\n",
    "            if main_col in final_df.columns:\n",
    "                final_df[main_col] = final_df[main_col].combine_first(final_df[col])\n",
    "                final_df.drop(columns=[col], inplace=True)\n",
    "\n",
    "# ==== SẮP XẾP CỘT ====\n",
    "cols = final_df.columns.tolist()\n",
    "cols.remove(\"Chỉ tiêu\")\n",
    "cols.remove(\"Nguồn báo cáo\")\n",
    "\n",
    "quy_cols = sorted([c for c in cols if re.fullmatch(r\"\\d{4}Q[1-4]\", c)])\n",
    "other_cols = [c for c in cols if c not in quy_cols]\n",
    "final_df = final_df[[\"Chỉ tiêu\"] + quy_cols + other_cols + [\"Nguồn báo cáo\"]]\n",
    "\n",
    "# Lưu file\n",
    "final_df.to_excel(\"TONG_HOP_ALL_TABS.xlsx\", index=False)\n",
    "print(\"✅ ĐÃ GỘP CHUẨN: TM chèn đúng vào Q1, không tạo cột thừa\")"
   ]
  }
 ],
 "metadata": {
  "kernelspec": {
   "display_name": "Python 3",
   "language": "python",
   "name": "python3"
  },
  "language_info": {
   "codemirror_mode": {
    "name": "ipython",
    "version": 3
   },
   "file_extension": ".py",
   "mimetype": "text/x-python",
   "name": "python",
   "nbconvert_exporter": "python",
   "pygments_lexer": "ipython3",
   "version": "3.13.5"
  }
 },
 "nbformat": 4,
 "nbformat_minor": 5
}
