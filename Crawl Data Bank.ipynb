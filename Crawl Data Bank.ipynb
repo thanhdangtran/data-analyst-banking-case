{
 "cells": [
  {
   "cell_type": "code",
   "execution_count": null,
   "id": "8b5a122b",
   "metadata": {},
   "outputs": [],
   "source": [
    "#pip install lxml\n",
    "#pip install openpyxl\n",
    "#selenium\n",
    "#pandas"
   ]
  },
  {
   "cell_type": "code",
   "execution_count": null,
   "id": "08ce3689",
   "metadata": {},
   "outputs": [
    {
     "name": "stdout",
     "output_type": "stream",
     "text": [
      "\n",
      "🔄 VPB\n"
     ]
    },
    {
     "name": "stderr",
     "output_type": "stream",
     "text": [
      "C:\\Users\\THANH DANG\\AppData\\Local\\Temp\\ipykernel_26008\\3384099298.py:50: FutureWarning: Passing literal html to 'read_html' is deprecated and will be removed in a future version. To read from a literal string, wrap it in a 'StringIO' object.\n",
      "  df = pd.read_html(table.get_attribute(\"outerHTML\"))[0]\n"
     ]
    },
    {
     "name": "stdout",
     "output_type": "stream",
     "text": [
      "✅ BCTT\n"
     ]
    },
    {
     "name": "stderr",
     "output_type": "stream",
     "text": [
      "C:\\Users\\THANH DANG\\AppData\\Local\\Temp\\ipykernel_26008\\3384099298.py:50: FutureWarning: Passing literal html to 'read_html' is deprecated and will be removed in a future version. To read from a literal string, wrap it in a 'StringIO' object.\n",
      "  df = pd.read_html(table.get_attribute(\"outerHTML\"))[0]\n"
     ]
    },
    {
     "name": "stdout",
     "output_type": "stream",
     "text": [
      "✅ CDKT\n"
     ]
    },
    {
     "name": "stderr",
     "output_type": "stream",
     "text": [
      "C:\\Users\\THANH DANG\\AppData\\Local\\Temp\\ipykernel_26008\\3384099298.py:50: FutureWarning: Passing literal html to 'read_html' is deprecated and will be removed in a future version. To read from a literal string, wrap it in a 'StringIO' object.\n",
      "  df = pd.read_html(table.get_attribute(\"outerHTML\"))[0]\n"
     ]
    },
    {
     "name": "stdout",
     "output_type": "stream",
     "text": [
      "✅ KQKD\n"
     ]
    },
    {
     "name": "stderr",
     "output_type": "stream",
     "text": [
      "C:\\Users\\THANH DANG\\AppData\\Local\\Temp\\ipykernel_26008\\3384099298.py:50: FutureWarning: Passing literal html to 'read_html' is deprecated and will be removed in a future version. To read from a literal string, wrap it in a 'StringIO' object.\n",
      "  df = pd.read_html(table.get_attribute(\"outerHTML\"))[0]\n"
     ]
    },
    {
     "name": "stdout",
     "output_type": "stream",
     "text": [
      "✅ LC\n"
     ]
    },
    {
     "name": "stderr",
     "output_type": "stream",
     "text": [
      "C:\\Users\\THANH DANG\\AppData\\Local\\Temp\\ipykernel_26008\\3384099298.py:50: FutureWarning: Passing literal html to 'read_html' is deprecated and will be removed in a future version. To read from a literal string, wrap it in a 'StringIO' object.\n",
      "  df = pd.read_html(table.get_attribute(\"outerHTML\"))[0]\n"
     ]
    },
    {
     "name": "stdout",
     "output_type": "stream",
     "text": [
      "✅ CSTC\n"
     ]
    },
    {
     "name": "stderr",
     "output_type": "stream",
     "text": [
      "C:\\Users\\THANH DANG\\AppData\\Local\\Temp\\ipykernel_26008\\3384099298.py:50: FutureWarning: Passing literal html to 'read_html' is deprecated and will be removed in a future version. To read from a literal string, wrap it in a 'StringIO' object.\n",
      "  df = pd.read_html(table.get_attribute(\"outerHTML\"))[0]\n"
     ]
    },
    {
     "name": "stdout",
     "output_type": "stream",
     "text": [
      "✅ TM\n",
      "\n",
      "🔄 CTG\n"
     ]
    },
    {
     "name": "stderr",
     "output_type": "stream",
     "text": [
      "C:\\Users\\THANH DANG\\AppData\\Local\\Temp\\ipykernel_26008\\3384099298.py:50: FutureWarning: Passing literal html to 'read_html' is deprecated and will be removed in a future version. To read from a literal string, wrap it in a 'StringIO' object.\n",
      "  df = pd.read_html(table.get_attribute(\"outerHTML\"))[0]\n"
     ]
    },
    {
     "name": "stdout",
     "output_type": "stream",
     "text": [
      "✅ BCTT\n"
     ]
    },
    {
     "name": "stderr",
     "output_type": "stream",
     "text": [
      "C:\\Users\\THANH DANG\\AppData\\Local\\Temp\\ipykernel_26008\\3384099298.py:50: FutureWarning: Passing literal html to 'read_html' is deprecated and will be removed in a future version. To read from a literal string, wrap it in a 'StringIO' object.\n",
      "  df = pd.read_html(table.get_attribute(\"outerHTML\"))[0]\n"
     ]
    },
    {
     "name": "stdout",
     "output_type": "stream",
     "text": [
      "✅ CDKT\n"
     ]
    },
    {
     "name": "stderr",
     "output_type": "stream",
     "text": [
      "C:\\Users\\THANH DANG\\AppData\\Local\\Temp\\ipykernel_26008\\3384099298.py:50: FutureWarning: Passing literal html to 'read_html' is deprecated and will be removed in a future version. To read from a literal string, wrap it in a 'StringIO' object.\n",
      "  df = pd.read_html(table.get_attribute(\"outerHTML\"))[0]\n"
     ]
    },
    {
     "name": "stdout",
     "output_type": "stream",
     "text": [
      "✅ KQKD\n"
     ]
    },
    {
     "name": "stderr",
     "output_type": "stream",
     "text": [
      "C:\\Users\\THANH DANG\\AppData\\Local\\Temp\\ipykernel_26008\\3384099298.py:50: FutureWarning: Passing literal html to 'read_html' is deprecated and will be removed in a future version. To read from a literal string, wrap it in a 'StringIO' object.\n",
      "  df = pd.read_html(table.get_attribute(\"outerHTML\"))[0]\n"
     ]
    },
    {
     "name": "stdout",
     "output_type": "stream",
     "text": [
      "✅ LC\n"
     ]
    },
    {
     "name": "stderr",
     "output_type": "stream",
     "text": [
      "C:\\Users\\THANH DANG\\AppData\\Local\\Temp\\ipykernel_26008\\3384099298.py:50: FutureWarning: Passing literal html to 'read_html' is deprecated and will be removed in a future version. To read from a literal string, wrap it in a 'StringIO' object.\n",
      "  df = pd.read_html(table.get_attribute(\"outerHTML\"))[0]\n"
     ]
    },
    {
     "name": "stdout",
     "output_type": "stream",
     "text": [
      "✅ CSTC\n"
     ]
    },
    {
     "name": "stderr",
     "output_type": "stream",
     "text": [
      "C:\\Users\\THANH DANG\\AppData\\Local\\Temp\\ipykernel_26008\\3384099298.py:50: FutureWarning: Passing literal html to 'read_html' is deprecated and will be removed in a future version. To read from a literal string, wrap it in a 'StringIO' object.\n",
      "  df = pd.read_html(table.get_attribute(\"outerHTML\"))[0]\n"
     ]
    },
    {
     "name": "stdout",
     "output_type": "stream",
     "text": [
      "✅ TM\n",
      "\n",
      "🔄 VCB\n"
     ]
    },
    {
     "name": "stderr",
     "output_type": "stream",
     "text": [
      "C:\\Users\\THANH DANG\\AppData\\Local\\Temp\\ipykernel_26008\\3384099298.py:50: FutureWarning: Passing literal html to 'read_html' is deprecated and will be removed in a future version. To read from a literal string, wrap it in a 'StringIO' object.\n",
      "  df = pd.read_html(table.get_attribute(\"outerHTML\"))[0]\n"
     ]
    },
    {
     "name": "stdout",
     "output_type": "stream",
     "text": [
      "✅ BCTT\n"
     ]
    },
    {
     "name": "stderr",
     "output_type": "stream",
     "text": [
      "C:\\Users\\THANH DANG\\AppData\\Local\\Temp\\ipykernel_26008\\3384099298.py:50: FutureWarning: Passing literal html to 'read_html' is deprecated and will be removed in a future version. To read from a literal string, wrap it in a 'StringIO' object.\n",
      "  df = pd.read_html(table.get_attribute(\"outerHTML\"))[0]\n"
     ]
    },
    {
     "name": "stdout",
     "output_type": "stream",
     "text": [
      "✅ CDKT\n"
     ]
    },
    {
     "name": "stderr",
     "output_type": "stream",
     "text": [
      "C:\\Users\\THANH DANG\\AppData\\Local\\Temp\\ipykernel_26008\\3384099298.py:50: FutureWarning: Passing literal html to 'read_html' is deprecated and will be removed in a future version. To read from a literal string, wrap it in a 'StringIO' object.\n",
      "  df = pd.read_html(table.get_attribute(\"outerHTML\"))[0]\n"
     ]
    },
    {
     "name": "stdout",
     "output_type": "stream",
     "text": [
      "✅ KQKD\n"
     ]
    },
    {
     "name": "stderr",
     "output_type": "stream",
     "text": [
      "C:\\Users\\THANH DANG\\AppData\\Local\\Temp\\ipykernel_26008\\3384099298.py:50: FutureWarning: Passing literal html to 'read_html' is deprecated and will be removed in a future version. To read from a literal string, wrap it in a 'StringIO' object.\n",
      "  df = pd.read_html(table.get_attribute(\"outerHTML\"))[0]\n"
     ]
    },
    {
     "name": "stdout",
     "output_type": "stream",
     "text": [
      "✅ LC\n"
     ]
    },
    {
     "name": "stderr",
     "output_type": "stream",
     "text": [
      "C:\\Users\\THANH DANG\\AppData\\Local\\Temp\\ipykernel_26008\\3384099298.py:50: FutureWarning: Passing literal html to 'read_html' is deprecated and will be removed in a future version. To read from a literal string, wrap it in a 'StringIO' object.\n",
      "  df = pd.read_html(table.get_attribute(\"outerHTML\"))[0]\n"
     ]
    },
    {
     "name": "stdout",
     "output_type": "stream",
     "text": [
      "✅ CSTC\n"
     ]
    },
    {
     "name": "stderr",
     "output_type": "stream",
     "text": [
      "C:\\Users\\THANH DANG\\AppData\\Local\\Temp\\ipykernel_26008\\3384099298.py:50: FutureWarning: Passing literal html to 'read_html' is deprecated and will be removed in a future version. To read from a literal string, wrap it in a 'StringIO' object.\n",
      "  df = pd.read_html(table.get_attribute(\"outerHTML\"))[0]\n"
     ]
    },
    {
     "name": "stdout",
     "output_type": "stream",
     "text": [
      "✅ TM\n",
      "\n",
      "🔄 TCB\n"
     ]
    },
    {
     "name": "stderr",
     "output_type": "stream",
     "text": [
      "C:\\Users\\THANH DANG\\AppData\\Local\\Temp\\ipykernel_26008\\3384099298.py:50: FutureWarning: Passing literal html to 'read_html' is deprecated and will be removed in a future version. To read from a literal string, wrap it in a 'StringIO' object.\n",
      "  df = pd.read_html(table.get_attribute(\"outerHTML\"))[0]\n"
     ]
    },
    {
     "name": "stdout",
     "output_type": "stream",
     "text": [
      "✅ BCTT\n"
     ]
    },
    {
     "name": "stderr",
     "output_type": "stream",
     "text": [
      "C:\\Users\\THANH DANG\\AppData\\Local\\Temp\\ipykernel_26008\\3384099298.py:50: FutureWarning: Passing literal html to 'read_html' is deprecated and will be removed in a future version. To read from a literal string, wrap it in a 'StringIO' object.\n",
      "  df = pd.read_html(table.get_attribute(\"outerHTML\"))[0]\n"
     ]
    },
    {
     "name": "stdout",
     "output_type": "stream",
     "text": [
      "✅ CDKT\n"
     ]
    },
    {
     "name": "stderr",
     "output_type": "stream",
     "text": [
      "C:\\Users\\THANH DANG\\AppData\\Local\\Temp\\ipykernel_26008\\3384099298.py:50: FutureWarning: Passing literal html to 'read_html' is deprecated and will be removed in a future version. To read from a literal string, wrap it in a 'StringIO' object.\n",
      "  df = pd.read_html(table.get_attribute(\"outerHTML\"))[0]\n"
     ]
    },
    {
     "name": "stdout",
     "output_type": "stream",
     "text": [
      "✅ KQKD\n"
     ]
    },
    {
     "name": "stderr",
     "output_type": "stream",
     "text": [
      "C:\\Users\\THANH DANG\\AppData\\Local\\Temp\\ipykernel_26008\\3384099298.py:50: FutureWarning: Passing literal html to 'read_html' is deprecated and will be removed in a future version. To read from a literal string, wrap it in a 'StringIO' object.\n",
      "  df = pd.read_html(table.get_attribute(\"outerHTML\"))[0]\n"
     ]
    },
    {
     "name": "stdout",
     "output_type": "stream",
     "text": [
      "✅ LC\n"
     ]
    },
    {
     "name": "stderr",
     "output_type": "stream",
     "text": [
      "C:\\Users\\THANH DANG\\AppData\\Local\\Temp\\ipykernel_26008\\3384099298.py:50: FutureWarning: Passing literal html to 'read_html' is deprecated and will be removed in a future version. To read from a literal string, wrap it in a 'StringIO' object.\n",
      "  df = pd.read_html(table.get_attribute(\"outerHTML\"))[0]\n"
     ]
    },
    {
     "name": "stdout",
     "output_type": "stream",
     "text": [
      "✅ CSTC\n"
     ]
    },
    {
     "name": "stderr",
     "output_type": "stream",
     "text": [
      "C:\\Users\\THANH DANG\\AppData\\Local\\Temp\\ipykernel_26008\\3384099298.py:50: FutureWarning: Passing literal html to 'read_html' is deprecated and will be removed in a future version. To read from a literal string, wrap it in a 'StringIO' object.\n",
      "  df = pd.read_html(table.get_attribute(\"outerHTML\"))[0]\n"
     ]
    },
    {
     "name": "stdout",
     "output_type": "stream",
     "text": [
      "✅ TM\n",
      "\n",
      "🔄 MBB\n"
     ]
    },
    {
     "name": "stderr",
     "output_type": "stream",
     "text": [
      "C:\\Users\\THANH DANG\\AppData\\Local\\Temp\\ipykernel_26008\\3384099298.py:50: FutureWarning: Passing literal html to 'read_html' is deprecated and will be removed in a future version. To read from a literal string, wrap it in a 'StringIO' object.\n",
      "  df = pd.read_html(table.get_attribute(\"outerHTML\"))[0]\n"
     ]
    },
    {
     "name": "stdout",
     "output_type": "stream",
     "text": [
      "✅ BCTT\n"
     ]
    },
    {
     "name": "stderr",
     "output_type": "stream",
     "text": [
      "C:\\Users\\THANH DANG\\AppData\\Local\\Temp\\ipykernel_26008\\3384099298.py:50: FutureWarning: Passing literal html to 'read_html' is deprecated and will be removed in a future version. To read from a literal string, wrap it in a 'StringIO' object.\n",
      "  df = pd.read_html(table.get_attribute(\"outerHTML\"))[0]\n"
     ]
    },
    {
     "name": "stdout",
     "output_type": "stream",
     "text": [
      "✅ CDKT\n"
     ]
    },
    {
     "name": "stderr",
     "output_type": "stream",
     "text": [
      "C:\\Users\\THANH DANG\\AppData\\Local\\Temp\\ipykernel_26008\\3384099298.py:50: FutureWarning: Passing literal html to 'read_html' is deprecated and will be removed in a future version. To read from a literal string, wrap it in a 'StringIO' object.\n",
      "  df = pd.read_html(table.get_attribute(\"outerHTML\"))[0]\n"
     ]
    },
    {
     "name": "stdout",
     "output_type": "stream",
     "text": [
      "✅ KQKD\n"
     ]
    },
    {
     "name": "stderr",
     "output_type": "stream",
     "text": [
      "C:\\Users\\THANH DANG\\AppData\\Local\\Temp\\ipykernel_26008\\3384099298.py:50: FutureWarning: Passing literal html to 'read_html' is deprecated and will be removed in a future version. To read from a literal string, wrap it in a 'StringIO' object.\n",
      "  df = pd.read_html(table.get_attribute(\"outerHTML\"))[0]\n"
     ]
    },
    {
     "name": "stdout",
     "output_type": "stream",
     "text": [
      "✅ LC\n"
     ]
    },
    {
     "name": "stderr",
     "output_type": "stream",
     "text": [
      "C:\\Users\\THANH DANG\\AppData\\Local\\Temp\\ipykernel_26008\\3384099298.py:50: FutureWarning: Passing literal html to 'read_html' is deprecated and will be removed in a future version. To read from a literal string, wrap it in a 'StringIO' object.\n",
      "  df = pd.read_html(table.get_attribute(\"outerHTML\"))[0]\n"
     ]
    },
    {
     "name": "stdout",
     "output_type": "stream",
     "text": [
      "✅ CSTC\n"
     ]
    },
    {
     "name": "stderr",
     "output_type": "stream",
     "text": [
      "C:\\Users\\THANH DANG\\AppData\\Local\\Temp\\ipykernel_26008\\3384099298.py:50: FutureWarning: Passing literal html to 'read_html' is deprecated and will be removed in a future version. To read from a literal string, wrap it in a 'StringIO' object.\n",
      "  df = pd.read_html(table.get_attribute(\"outerHTML\"))[0]\n"
     ]
    },
    {
     "name": "stdout",
     "output_type": "stream",
     "text": [
      "✅ TM\n",
      "\n",
      "🔄 ACB\n"
     ]
    },
    {
     "name": "stderr",
     "output_type": "stream",
     "text": [
      "C:\\Users\\THANH DANG\\AppData\\Local\\Temp\\ipykernel_26008\\3384099298.py:50: FutureWarning: Passing literal html to 'read_html' is deprecated and will be removed in a future version. To read from a literal string, wrap it in a 'StringIO' object.\n",
      "  df = pd.read_html(table.get_attribute(\"outerHTML\"))[0]\n"
     ]
    },
    {
     "name": "stdout",
     "output_type": "stream",
     "text": [
      "✅ BCTT\n"
     ]
    },
    {
     "name": "stderr",
     "output_type": "stream",
     "text": [
      "C:\\Users\\THANH DANG\\AppData\\Local\\Temp\\ipykernel_26008\\3384099298.py:50: FutureWarning: Passing literal html to 'read_html' is deprecated and will be removed in a future version. To read from a literal string, wrap it in a 'StringIO' object.\n",
      "  df = pd.read_html(table.get_attribute(\"outerHTML\"))[0]\n"
     ]
    },
    {
     "name": "stdout",
     "output_type": "stream",
     "text": [
      "✅ CDKT\n"
     ]
    },
    {
     "name": "stderr",
     "output_type": "stream",
     "text": [
      "C:\\Users\\THANH DANG\\AppData\\Local\\Temp\\ipykernel_26008\\3384099298.py:50: FutureWarning: Passing literal html to 'read_html' is deprecated and will be removed in a future version. To read from a literal string, wrap it in a 'StringIO' object.\n",
      "  df = pd.read_html(table.get_attribute(\"outerHTML\"))[0]\n"
     ]
    },
    {
     "name": "stdout",
     "output_type": "stream",
     "text": [
      "✅ KQKD\n"
     ]
    },
    {
     "name": "stderr",
     "output_type": "stream",
     "text": [
      "C:\\Users\\THANH DANG\\AppData\\Local\\Temp\\ipykernel_26008\\3384099298.py:50: FutureWarning: Passing literal html to 'read_html' is deprecated and will be removed in a future version. To read from a literal string, wrap it in a 'StringIO' object.\n",
      "  df = pd.read_html(table.get_attribute(\"outerHTML\"))[0]\n"
     ]
    },
    {
     "name": "stdout",
     "output_type": "stream",
     "text": [
      "✅ LC\n"
     ]
    },
    {
     "name": "stderr",
     "output_type": "stream",
     "text": [
      "C:\\Users\\THANH DANG\\AppData\\Local\\Temp\\ipykernel_26008\\3384099298.py:50: FutureWarning: Passing literal html to 'read_html' is deprecated and will be removed in a future version. To read from a literal string, wrap it in a 'StringIO' object.\n",
      "  df = pd.read_html(table.get_attribute(\"outerHTML\"))[0]\n"
     ]
    },
    {
     "name": "stdout",
     "output_type": "stream",
     "text": [
      "✅ CSTC\n"
     ]
    },
    {
     "name": "stderr",
     "output_type": "stream",
     "text": [
      "C:\\Users\\THANH DANG\\AppData\\Local\\Temp\\ipykernel_26008\\3384099298.py:50: FutureWarning: Passing literal html to 'read_html' is deprecated and will be removed in a future version. To read from a literal string, wrap it in a 'StringIO' object.\n",
      "  df = pd.read_html(table.get_attribute(\"outerHTML\"))[0]\n"
     ]
    },
    {
     "name": "stdout",
     "output_type": "stream",
     "text": [
      "✅ TM\n",
      "\n",
      "🔄 STB\n"
     ]
    },
    {
     "name": "stderr",
     "output_type": "stream",
     "text": [
      "C:\\Users\\THANH DANG\\AppData\\Local\\Temp\\ipykernel_26008\\3384099298.py:50: FutureWarning: Passing literal html to 'read_html' is deprecated and will be removed in a future version. To read from a literal string, wrap it in a 'StringIO' object.\n",
      "  df = pd.read_html(table.get_attribute(\"outerHTML\"))[0]\n"
     ]
    },
    {
     "name": "stdout",
     "output_type": "stream",
     "text": [
      "✅ BCTT\n"
     ]
    },
    {
     "name": "stderr",
     "output_type": "stream",
     "text": [
      "C:\\Users\\THANH DANG\\AppData\\Local\\Temp\\ipykernel_26008\\3384099298.py:50: FutureWarning: Passing literal html to 'read_html' is deprecated and will be removed in a future version. To read from a literal string, wrap it in a 'StringIO' object.\n",
      "  df = pd.read_html(table.get_attribute(\"outerHTML\"))[0]\n"
     ]
    },
    {
     "name": "stdout",
     "output_type": "stream",
     "text": [
      "✅ CDKT\n"
     ]
    },
    {
     "name": "stderr",
     "output_type": "stream",
     "text": [
      "C:\\Users\\THANH DANG\\AppData\\Local\\Temp\\ipykernel_26008\\3384099298.py:50: FutureWarning: Passing literal html to 'read_html' is deprecated and will be removed in a future version. To read from a literal string, wrap it in a 'StringIO' object.\n",
      "  df = pd.read_html(table.get_attribute(\"outerHTML\"))[0]\n"
     ]
    },
    {
     "name": "stdout",
     "output_type": "stream",
     "text": [
      "✅ KQKD\n"
     ]
    },
    {
     "name": "stderr",
     "output_type": "stream",
     "text": [
      "C:\\Users\\THANH DANG\\AppData\\Local\\Temp\\ipykernel_26008\\3384099298.py:50: FutureWarning: Passing literal html to 'read_html' is deprecated and will be removed in a future version. To read from a literal string, wrap it in a 'StringIO' object.\n",
      "  df = pd.read_html(table.get_attribute(\"outerHTML\"))[0]\n"
     ]
    },
    {
     "name": "stdout",
     "output_type": "stream",
     "text": [
      "✅ LC\n"
     ]
    },
    {
     "name": "stderr",
     "output_type": "stream",
     "text": [
      "C:\\Users\\THANH DANG\\AppData\\Local\\Temp\\ipykernel_26008\\3384099298.py:50: FutureWarning: Passing literal html to 'read_html' is deprecated and will be removed in a future version. To read from a literal string, wrap it in a 'StringIO' object.\n",
      "  df = pd.read_html(table.get_attribute(\"outerHTML\"))[0]\n"
     ]
    },
    {
     "name": "stdout",
     "output_type": "stream",
     "text": [
      "✅ CSTC\n"
     ]
    },
    {
     "name": "stderr",
     "output_type": "stream",
     "text": [
      "C:\\Users\\THANH DANG\\AppData\\Local\\Temp\\ipykernel_26008\\3384099298.py:50: FutureWarning: Passing literal html to 'read_html' is deprecated and will be removed in a future version. To read from a literal string, wrap it in a 'StringIO' object.\n",
      "  df = pd.read_html(table.get_attribute(\"outerHTML\"))[0]\n"
     ]
    },
    {
     "name": "stdout",
     "output_type": "stream",
     "text": [
      "✅ TM\n",
      "\n",
      "🔄 HDB\n"
     ]
    },
    {
     "name": "stderr",
     "output_type": "stream",
     "text": [
      "C:\\Users\\THANH DANG\\AppData\\Local\\Temp\\ipykernel_26008\\3384099298.py:50: FutureWarning: Passing literal html to 'read_html' is deprecated and will be removed in a future version. To read from a literal string, wrap it in a 'StringIO' object.\n",
      "  df = pd.read_html(table.get_attribute(\"outerHTML\"))[0]\n"
     ]
    },
    {
     "name": "stdout",
     "output_type": "stream",
     "text": [
      "✅ BCTT\n"
     ]
    },
    {
     "name": "stderr",
     "output_type": "stream",
     "text": [
      "C:\\Users\\THANH DANG\\AppData\\Local\\Temp\\ipykernel_26008\\3384099298.py:50: FutureWarning: Passing literal html to 'read_html' is deprecated and will be removed in a future version. To read from a literal string, wrap it in a 'StringIO' object.\n",
      "  df = pd.read_html(table.get_attribute(\"outerHTML\"))[0]\n"
     ]
    },
    {
     "name": "stdout",
     "output_type": "stream",
     "text": [
      "✅ CDKT\n"
     ]
    },
    {
     "name": "stderr",
     "output_type": "stream",
     "text": [
      "C:\\Users\\THANH DANG\\AppData\\Local\\Temp\\ipykernel_26008\\3384099298.py:50: FutureWarning: Passing literal html to 'read_html' is deprecated and will be removed in a future version. To read from a literal string, wrap it in a 'StringIO' object.\n",
      "  df = pd.read_html(table.get_attribute(\"outerHTML\"))[0]\n"
     ]
    },
    {
     "name": "stdout",
     "output_type": "stream",
     "text": [
      "✅ KQKD\n"
     ]
    },
    {
     "name": "stderr",
     "output_type": "stream",
     "text": [
      "C:\\Users\\THANH DANG\\AppData\\Local\\Temp\\ipykernel_26008\\3384099298.py:50: FutureWarning: Passing literal html to 'read_html' is deprecated and will be removed in a future version. To read from a literal string, wrap it in a 'StringIO' object.\n",
      "  df = pd.read_html(table.get_attribute(\"outerHTML\"))[0]\n"
     ]
    },
    {
     "name": "stdout",
     "output_type": "stream",
     "text": [
      "✅ LC\n"
     ]
    },
    {
     "name": "stderr",
     "output_type": "stream",
     "text": [
      "C:\\Users\\THANH DANG\\AppData\\Local\\Temp\\ipykernel_26008\\3384099298.py:50: FutureWarning: Passing literal html to 'read_html' is deprecated and will be removed in a future version. To read from a literal string, wrap it in a 'StringIO' object.\n",
      "  df = pd.read_html(table.get_attribute(\"outerHTML\"))[0]\n"
     ]
    },
    {
     "name": "stdout",
     "output_type": "stream",
     "text": [
      "✅ CSTC\n"
     ]
    },
    {
     "name": "stderr",
     "output_type": "stream",
     "text": [
      "C:\\Users\\THANH DANG\\AppData\\Local\\Temp\\ipykernel_26008\\3384099298.py:50: FutureWarning: Passing literal html to 'read_html' is deprecated and will be removed in a future version. To read from a literal string, wrap it in a 'StringIO' object.\n",
      "  df = pd.read_html(table.get_attribute(\"outerHTML\"))[0]\n"
     ]
    },
    {
     "name": "stdout",
     "output_type": "stream",
     "text": [
      "✅ TM\n"
     ]
    }
   ],
   "source": [
    "import os\n",
    "import time\n",
    "import pandas as pd\n",
    "from selenium import webdriver\n",
    "from selenium.webdriver.common.by import By\n",
    "from selenium.webdriver.support.ui import Select\n",
    "from selenium.webdriver.common.keys import Keys\n",
    "\n",
    "# Danh sách ngân hàng và các tab dữ liệu\n",
    "banks = [\"VPB\", \"CTG\", \"VCB\", \"TCB\", \"MBB\", \"ACB\", \"STB\", \"HDB\"]\n",
    "tabs = [\n",
    "    {\"tab\": \"BCTT\", \"table_id\": \"tbl-data-BCTT-KQ\"},\n",
    "    {\"tab\": \"CDKT\", \"table_id\": \"tbl-data-CDKT\"},\n",
    "    {\"tab\": \"KQKD\", \"table_id\": \"tbl-data-KQKD\"},\n",
    "    {\"tab\": \"LC\",   \"table_id\": \"tbl-data-LCTT-direct\"},\n",
    "    {\"tab\": \"CSTC\", \"table_id\": \"tbl-data-CSTC\"},\n",
    "    {\"tab\": \"TM\",   \"table_id\": \"tbl-data-TM\"},\n",
    "]\n",
    "\n",
    "# Mở trình duyệt\n",
    "driver = webdriver.Chrome()\n",
    "\n",
    "# Đăng nhập\n",
    "driver.get(\"https://finance.vietstock.vn/BID/tai-chinh.htm?tab=CSTC\")\n",
    "time.sleep(5)\n",
    "driver.find_element(By.ID, \"txtEmailLogin\").send_keys(\"foreveralone1789@gmail.com\")\n",
    "pw = driver.find_element(By.ID, \"passwordLogin\")\n",
    "pw.send_keys(\"Thanhdang@19\")\n",
    "pw.send_keys(Keys.RETURN)\n",
    "time.sleep(5)\n",
    "\n",
    "# Duyệt qua từng ngân hàng và tab\n",
    "for bank in banks:\n",
    "    os.makedirs(bank, exist_ok=True)\n",
    "    print(f\"\\n🔄 {bank}\")\n",
    "\n",
    "    for t in tabs:\n",
    "        driver.get(f\"https://finance.vietstock.vn/{bank}/tai-chinh.htm?tab={t['tab']}\")\n",
    "        time.sleep(5)\n",
    "\n",
    "        try:\n",
    "            Select(driver.find_element(By.NAME, \"period\")).select_by_value(\"-1\")\n",
    "            Select(driver.find_element(By.NAME, \"UnitDong\")).select_by_value(\"1000000\")\n",
    "            time.sleep(10)  # Chờ bảng load\n",
    "        except:\n",
    "            pass\n",
    "\n",
    "        try:\n",
    "            table = driver.find_element(By.ID, t[\"table_id\"])\n",
    "            df = pd.read_html(table.get_attribute(\"outerHTML\"))[0]\n",
    "            df.to_excel(os.path.join(bank, f\"{t['tab']}.xlsx\"), index=False)\n",
    "            print(f\"✅ {t['tab']}\")\n",
    "        except Exception as e:\n",
    "            print(f\"❌ {t['tab']} lỗi: {e}\")\n",
    "\n",
    "driver.quit()"
   ]
  },
  {
   "cell_type": "code",
   "execution_count": 12,
   "id": "9a097ff6",
   "metadata": {},
   "outputs": [
    {
     "name": "stdout",
     "output_type": "stream",
     "text": [
      "✅ Đã lưu file tổng hợp tại: c:\\Users\\THANH DANG\\Desktop\\New folder (4)\\BaoCao_TongHop_Financials.xlsx\n"
     ]
    }
   ],
   "source": [
    "import os\n",
    "import pandas as pd\n",
    "\n",
    "# === THƯ MỤC GỐC: THƯ MỤC HIỆN TẠI CHỨA CÁC FOLDER NGÂN HÀNG ===\n",
    "root_dir = os.getcwd()\n",
    "\n",
    "all_data = []\n",
    "\n",
    "for bank_name in os.listdir(root_dir):\n",
    "    bank_path = os.path.join(root_dir, bank_name)\n",
    "    if not os.path.isdir(bank_path):\n",
    "        continue\n",
    "\n",
    "    for filename in os.listdir(bank_path):\n",
    "        if not filename.endswith((\".xlsx\", \".xls\")):\n",
    "            continue\n",
    "\n",
    "        file_path = os.path.join(bank_path, filename)\n",
    "        source_name = os.path.splitext(filename)[0]  # bỏ đuôi .xlsx/.xls\n",
    "\n",
    "        try:\n",
    "            xls = pd.ExcelFile(file_path)\n",
    "            for sheet_name in xls.sheet_names:\n",
    "                try:\n",
    "                    df_raw = xls.parse(sheet_name, header=None)\n",
    "\n",
    "                    time_row_index = df_raw.index[\n",
    "                        df_raw.apply(lambda row: row.astype(str).str.contains(r\"\\d{4}\").any(), axis=1)\n",
    "                    ].min()\n",
    "                    df = df_raw.iloc[time_row_index:]\n",
    "\n",
    "                    df.columns = df.iloc[0]\n",
    "                    df = df[1:]\n",
    "                    \n",
    "                    df = df.set_index(df.columns[0])\n",
    "                    df = df.transpose().reset_index()\n",
    "                    df = df.rename(columns={\"index\": \"Time\"})\n",
    "\n",
    "                    df.insert(0, \"Bank\", bank_name)\n",
    "                    df.insert(2, \"Source\", source_name)  # ← dùng tên file ở đây\n",
    "\n",
    "                    all_data.append(df)\n",
    "\n",
    "                except Exception as e:\n",
    "                    print(f\"[!] Lỗi đọc sheet: {sheet_name} trong file {filename}: {e}\")\n",
    "\n",
    "        except Exception as e:\n",
    "            print(f\"[!] Lỗi mở file Excel: {file_path}: {e}\")\n",
    "\n",
    "df_all = pd.concat(all_data, ignore_index=True)\n",
    "\n",
    "output_path = os.path.join(root_dir, \"BaoCao_TongHop_Financials.xlsx\")\n",
    "df_all.to_excel(output_path, index=False)\n",
    "\n",
    "print(f\"✅ Đã lưu file tổng hợp tại: {output_path}\")"
   ]
  },
  {
   "cell_type": "code",
   "execution_count": 3,
   "id": "c93ccdac",
   "metadata": {},
   "outputs": [
    {
     "name": "stdout",
     "output_type": "stream",
     "text": [
      "✅ Đã gộp xong: BCTT.xlsx → Tổng hợp ngân hàng\\BCTT_TongHop.xlsx\n",
      "✅ Đã gộp xong: CDKT.xlsx → Tổng hợp ngân hàng\\CDKT_TongHop.xlsx\n",
      "✅ Đã gộp xong: CSTC.xlsx → Tổng hợp ngân hàng\\CSTC_TongHop.xlsx\n",
      "✅ Đã gộp xong: KQKD.xlsx → Tổng hợp ngân hàng\\KQKD_TongHop.xlsx\n",
      "✅ Đã gộp xong: LC.xlsx → Tổng hợp ngân hàng\\LC_TongHop.xlsx\n",
      "✅ Đã gộp xong: TM.xlsx → Tổng hợp ngân hàng\\TM_TongHop.xlsx\n"
     ]
    }
   ],
   "source": [
    "import os\n",
    "import pandas as pd\n",
    "\n",
    "# Đường dẫn thư mục gốc chứa các thư mục ngân hàng\n",
    "ROOT_DIR = \"./\"\n",
    "BAO_CAO_TYPES = [\"BCTT.xlsx\", \"CDKT.xlsx\", \"CSTC.xlsx\", \"KQKD.xlsx\", \"LC.xlsx\", \"TM.xlsx\"]\n",
    "\n",
    "# Tạo thư mục output nếu chưa tồn tại\n",
    "OUTPUT_FOLDER = \"Tổng hợp ngân hàng\"\n",
    "os.makedirs(OUTPUT_FOLDER, exist_ok=True)\n",
    "\n",
    "def gop_bao_cao(bc_filename):\n",
    "    data_list = []\n",
    "\n",
    "    for bank_folder in os.listdir(ROOT_DIR):\n",
    "        bank_path = os.path.join(ROOT_DIR, bank_folder)\n",
    "        file_path = os.path.join(bank_path, bc_filename)\n",
    "\n",
    "        if os.path.isdir(bank_path) and os.path.exists(file_path):\n",
    "            try:\n",
    "                df = pd.read_excel(file_path, sheet_name=None)\n",
    "                for sheet_name, sheet_df in df.items():\n",
    "                    sheet_df.columns = sheet_df.columns.astype(str)\n",
    "                    # Cột đầu là chỉ tiêu\n",
    "                    chi_tieu = sheet_df.iloc[:, 0]\n",
    "                    time_cols = [col for col in sheet_df.columns if col != sheet_df.columns[0]]\n",
    "\n",
    "                    for col in time_cols:\n",
    "                        values = sheet_df[col].values\n",
    "                        row = {\"Bank\": bank_folder, \"Quý\": col}\n",
    "                        row.update(dict(zip(chi_tieu, values)))\n",
    "                        data_list.append(row)\n",
    "\n",
    "            except Exception as e:\n",
    "                print(f\"Lỗi đọc {file_path}: {e}\")\n",
    "\n",
    "    if not data_list:\n",
    "        print(f\"❗ Không có dữ liệu cho báo cáo {bc_filename}\")\n",
    "        return\n",
    "\n",
    "    df_final = pd.DataFrame(data_list)\n",
    "    output_path = os.path.join(OUTPUT_FOLDER, f\"{bc_filename.replace('.xlsx', '')}_TongHop.xlsx\")\n",
    "    df_final.to_excel(output_path, index=False)\n",
    "    print(f\"✅ Đã gộp xong: {bc_filename} → {output_path}\")\n",
    "\n",
    "# Gộp tất cả các báo cáo\n",
    "for bc_file in BAO_CAO_TYPES:\n",
    "    gop_bao_cao(bc_file)"
   ]
  }
 ],
 "metadata": {
  "kernelspec": {
   "display_name": "Python 3",
   "language": "python",
   "name": "python3"
  },
  "language_info": {
   "codemirror_mode": {
    "name": "ipython",
    "version": 3
   },
   "file_extension": ".py",
   "mimetype": "text/x-python",
   "name": "python",
   "nbconvert_exporter": "python",
   "pygments_lexer": "ipython3",
   "version": "3.13.5"
  }
 },
 "nbformat": 4,
 "nbformat_minor": 5
}
