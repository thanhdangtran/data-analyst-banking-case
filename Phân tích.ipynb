{
 "cells": [
  {
   "cell_type": "code",
   "execution_count": 8,
   "id": "54e8b91a",
   "metadata": {},
   "outputs": [
    {
     "ename": "KeyError",
     "evalue": "'Chỉ tiêu'",
     "output_type": "error",
     "traceback": [
      "\u001b[31m---------------------------------------------------------------------------\u001b[39m",
      "\u001b[31mKeyError\u001b[39m                                  Traceback (most recent call last)",
      "\u001b[36mFile \u001b[39m\u001b[32mc:\\Users\\THANH DANG\\AppData\\Local\\Programs\\Python\\Python313\\Lib\\site-packages\\pandas\\core\\indexes\\base.py:3812\u001b[39m, in \u001b[36mIndex.get_loc\u001b[39m\u001b[34m(self, key)\u001b[39m\n\u001b[32m   3811\u001b[39m \u001b[38;5;28;01mtry\u001b[39;00m:\n\u001b[32m-> \u001b[39m\u001b[32m3812\u001b[39m     \u001b[38;5;28;01mreturn\u001b[39;00m \u001b[38;5;28;43mself\u001b[39;49m\u001b[43m.\u001b[49m\u001b[43m_engine\u001b[49m\u001b[43m.\u001b[49m\u001b[43mget_loc\u001b[49m\u001b[43m(\u001b[49m\u001b[43mcasted_key\u001b[49m\u001b[43m)\u001b[49m\n\u001b[32m   3813\u001b[39m \u001b[38;5;28;01mexcept\u001b[39;00m \u001b[38;5;167;01mKeyError\u001b[39;00m \u001b[38;5;28;01mas\u001b[39;00m err:\n",
      "\u001b[36mFile \u001b[39m\u001b[32mpandas/_libs/index.pyx:167\u001b[39m, in \u001b[36mpandas._libs.index.IndexEngine.get_loc\u001b[39m\u001b[34m()\u001b[39m\n",
      "\u001b[36mFile \u001b[39m\u001b[32mpandas/_libs/index.pyx:196\u001b[39m, in \u001b[36mpandas._libs.index.IndexEngine.get_loc\u001b[39m\u001b[34m()\u001b[39m\n",
      "\u001b[36mFile \u001b[39m\u001b[32mpandas/_libs/hashtable_class_helper.pxi:7088\u001b[39m, in \u001b[36mpandas._libs.hashtable.PyObjectHashTable.get_item\u001b[39m\u001b[34m()\u001b[39m\n",
      "\u001b[36mFile \u001b[39m\u001b[32mpandas/_libs/hashtable_class_helper.pxi:7096\u001b[39m, in \u001b[36mpandas._libs.hashtable.PyObjectHashTable.get_item\u001b[39m\u001b[34m()\u001b[39m\n",
      "\u001b[31mKeyError\u001b[39m: 'Chỉ tiêu'",
      "\nThe above exception was the direct cause of the following exception:\n",
      "\u001b[31mKeyError\u001b[39m                                  Traceback (most recent call last)",
      "\u001b[36mCell\u001b[39m\u001b[36m \u001b[39m\u001b[32mIn[8]\u001b[39m\u001b[32m, line 34\u001b[39m\n\u001b[32m     31\u001b[39m df_cdkt = dfs[\u001b[33m\"\u001b[39m\u001b[33mCDKT\u001b[39m\u001b[33m\"\u001b[39m]\n\u001b[32m     33\u001b[39m \u001b[38;5;66;03m# Lọc và đổi tên chỉ tiêu\u001b[39;00m\n\u001b[32m---> \u001b[39m\u001b[32m34\u001b[39m df_income = df_kqkd[\u001b[43mdf_kqkd\u001b[49m\u001b[43m[\u001b[49m\u001b[33;43m\"\u001b[39;49m\u001b[33;43mChỉ tiêu\u001b[39;49m\u001b[33;43m\"\u001b[39;49m\u001b[43m]\u001b[49m == \u001b[33m\"\u001b[39m\u001b[33mThu nhập lãi thuần\u001b[39m\u001b[33m\"\u001b[39m].copy()\n\u001b[32m     35\u001b[39m df_income.rename(columns={\u001b[33m\"\u001b[39m\u001b[33mGiá trị\u001b[39m\u001b[33m\"\u001b[39m: \u001b[33m\"\u001b[39m\u001b[33mThu nhập lãi thuần\u001b[39m\u001b[33m\"\u001b[39m}, inplace=\u001b[38;5;28;01mTrue\u001b[39;00m)\n\u001b[32m     37\u001b[39m df_asset = df_cdkt[df_cdkt[\u001b[33m\"\u001b[39m\u001b[33mChỉ tiêu\u001b[39m\u001b[33m\"\u001b[39m] == \u001b[33m\"\u001b[39m\u001b[33mTổng tài sản sinh lãi (bình quân)\u001b[39m\u001b[33m\"\u001b[39m].copy()\n",
      "\u001b[36mFile \u001b[39m\u001b[32mc:\\Users\\THANH DANG\\AppData\\Local\\Programs\\Python\\Python313\\Lib\\site-packages\\pandas\\core\\frame.py:4107\u001b[39m, in \u001b[36mDataFrame.__getitem__\u001b[39m\u001b[34m(self, key)\u001b[39m\n\u001b[32m   4105\u001b[39m \u001b[38;5;28;01mif\u001b[39;00m \u001b[38;5;28mself\u001b[39m.columns.nlevels > \u001b[32m1\u001b[39m:\n\u001b[32m   4106\u001b[39m     \u001b[38;5;28;01mreturn\u001b[39;00m \u001b[38;5;28mself\u001b[39m._getitem_multilevel(key)\n\u001b[32m-> \u001b[39m\u001b[32m4107\u001b[39m indexer = \u001b[38;5;28;43mself\u001b[39;49m\u001b[43m.\u001b[49m\u001b[43mcolumns\u001b[49m\u001b[43m.\u001b[49m\u001b[43mget_loc\u001b[49m\u001b[43m(\u001b[49m\u001b[43mkey\u001b[49m\u001b[43m)\u001b[49m\n\u001b[32m   4108\u001b[39m \u001b[38;5;28;01mif\u001b[39;00m is_integer(indexer):\n\u001b[32m   4109\u001b[39m     indexer = [indexer]\n",
      "\u001b[36mFile \u001b[39m\u001b[32mc:\\Users\\THANH DANG\\AppData\\Local\\Programs\\Python\\Python313\\Lib\\site-packages\\pandas\\core\\indexes\\base.py:3819\u001b[39m, in \u001b[36mIndex.get_loc\u001b[39m\u001b[34m(self, key)\u001b[39m\n\u001b[32m   3814\u001b[39m     \u001b[38;5;28;01mif\u001b[39;00m \u001b[38;5;28misinstance\u001b[39m(casted_key, \u001b[38;5;28mslice\u001b[39m) \u001b[38;5;129;01mor\u001b[39;00m (\n\u001b[32m   3815\u001b[39m         \u001b[38;5;28misinstance\u001b[39m(casted_key, abc.Iterable)\n\u001b[32m   3816\u001b[39m         \u001b[38;5;129;01mand\u001b[39;00m \u001b[38;5;28many\u001b[39m(\u001b[38;5;28misinstance\u001b[39m(x, \u001b[38;5;28mslice\u001b[39m) \u001b[38;5;28;01mfor\u001b[39;00m x \u001b[38;5;129;01min\u001b[39;00m casted_key)\n\u001b[32m   3817\u001b[39m     ):\n\u001b[32m   3818\u001b[39m         \u001b[38;5;28;01mraise\u001b[39;00m InvalidIndexError(key)\n\u001b[32m-> \u001b[39m\u001b[32m3819\u001b[39m     \u001b[38;5;28;01mraise\u001b[39;00m \u001b[38;5;167;01mKeyError\u001b[39;00m(key) \u001b[38;5;28;01mfrom\u001b[39;00m\u001b[38;5;250m \u001b[39m\u001b[34;01merr\u001b[39;00m\n\u001b[32m   3820\u001b[39m \u001b[38;5;28;01mexcept\u001b[39;00m \u001b[38;5;167;01mTypeError\u001b[39;00m:\n\u001b[32m   3821\u001b[39m     \u001b[38;5;66;03m# If we have a listlike key, _check_indexing_error will raise\u001b[39;00m\n\u001b[32m   3822\u001b[39m     \u001b[38;5;66;03m#  InvalidIndexError. Otherwise we fall through and re-raise\u001b[39;00m\n\u001b[32m   3823\u001b[39m     \u001b[38;5;66;03m#  the TypeError.\u001b[39;00m\n\u001b[32m   3824\u001b[39m     \u001b[38;5;28mself\u001b[39m._check_indexing_error(key)\n",
      "\u001b[31mKeyError\u001b[39m: 'Chỉ tiêu'"
     ]
    }
   ],
   "source": [
    "import os\n",
    "import pandas as pd\n",
    "\n",
    "# Lấy thư mục hiện tại đang chạy notebook\n",
    "base_path = os.getcwd()\n",
    "folder_name = \"Tổng hợp ngân hàng\"\n",
    "folder_path = os.path.join(base_path, folder_name)\n",
    "\n",
    "# Tên các file cần đọc\n",
    "file_names = {\n",
    "    \"BCTT\": \"BCTT_TongHop.xlsx\",\n",
    "    \"CDKT\": \"CDKT_TongHop.xlsx\",\n",
    "    \"CSTC\": \"CSTC_TongHop.xlsx\",\n",
    "    \"KQKD\": \"KQKD_TongHop.xlsx\",\n",
    "    \"LC\": \"LC_TongHop.xlsx\",\n",
    "    \"TM\": \"TM_TongHop.xlsx\"\n",
    "}\n",
    "\n",
    "# Đọc dữ liệu\n",
    "dfs = {}\n",
    "for key, file in file_names.items():\n",
    "    full_path = os.path.join(folder_path, file)\n",
    "    if not os.path.exists(full_path):\n",
    "        print(f\"❌ KHÔNG tìm thấy file: {full_path}\")\n",
    "    else:\n",
    "        dfs[key] = pd.read_excel(full_path)\n",
    "\n",
    "# Kiểm tra đủ file chưa\n",
    "if \"KQKD\" in dfs and \"CDKT\" in dfs:\n",
    "    df_kqkd = dfs[\"KQKD\"]\n",
    "    df_cdkt = dfs[\"CDKT\"]\n",
    "\n",
    "    # Lọc và đổi tên chỉ tiêu\n",
    "    df_income = df_kqkd[df_kqkd[\"Chỉ tiêu\"] == \"Thu nhập lãi thuần\"].copy()\n",
    "    df_income.rename(columns={\"Giá trị\": \"Thu nhập lãi thuần\"}, inplace=True)\n",
    "\n",
    "    df_asset = df_cdkt[df_cdkt[\"Chỉ tiêu\"] == \"Tổng tài sản sinh lãi (bình quân)\"].copy()\n",
    "    df_asset.rename(columns={\"Giá trị\": \"Tài sản sinh lãi\"}, inplace=True)\n",
    "\n",
    "    # Merge theo Bank và Quý\n",
    "    df_merged = pd.merge(df_income, df_asset, on=[\"Bank\", \"Quý\"], how=\"left\")\n",
    "\n",
    "    # Tính NIM\n",
    "    df_merged[\"NIM (%)\"] = (df_merged[\"Thu nhập lãi thuần\"] * 4 / df_merged[\"Tài sản sinh lãi\"]) * 100\n",
    "\n",
    "    # Hiển thị kết quả\n",
    "    df_nim = df_merged[[\"Bank\", \"Quý\", \"Thu nhập lãi thuần\", \"Tài sản sinh lãi\", \"NIM (%)\"]].sort_values(by=[\"Bank\", \"Quý\"])\n",
    "    df_nim.reset_index(drop=True, inplace=True)\n",
    "    display(df_nim.head(15))\n",
    "else:\n",
    "    print(\"❌ Thiếu dữ liệu KQKD hoặc CDKT để tính NIM.\")\n"
   ]
  }
 ],
 "metadata": {
  "kernelspec": {
   "display_name": "Python 3",
   "language": "python",
   "name": "python3"
  },
  "language_info": {
   "codemirror_mode": {
    "name": "ipython",
    "version": 3
   },
   "file_extension": ".py",
   "mimetype": "text/x-python",
   "name": "python",
   "nbconvert_exporter": "python",
   "pygments_lexer": "ipython3",
   "version": "3.13.5"
  }
 },
 "nbformat": 4,
 "nbformat_minor": 5
}
