{
 "cells": [
  {
   "cell_type": "code",
   "execution_count": 20,
   "id": "54e8b91a",
   "metadata": {},
   "outputs": [
    {
     "name": "stdout",
     "output_type": "stream",
     "text": [
      "✅ Đã tính xong NIM (%) và lưu vào: Tổng hợp ngân hàng\\NIM_theo_quy.xlsx\n"
     ]
    }
   ],
   "source": [
    "import pandas as pd\n",
    "import os\n",
    "\n",
    "# === Đường dẫn tới thư mục chứa file ===\n",
    "folder_path = \"Tổng hợp ngân hàng\"\n",
    "\n",
    "# === Đọc dữ liệu từ file Excel ===\n",
    "kqkd_file = os.path.join(folder_path, \"KQKD_TongHop.xlsx\")\n",
    "cdkt_file = os.path.join(folder_path, \"CDKT_TongHop.xlsx\")\n",
    "\n",
    "df_kqkd = pd.read_excel(kqkd_file)\n",
    "df_cdkt = pd.read_excel(cdkt_file)\n",
    "\n",
    "# === TÍNH TÀI SẢN SINH LÃI ===\n",
    "df_cdkt[\"Tài sản sinh lãi\"] = (\n",
    "    df_cdkt[\"III. Tiền, vàng gửi tại các TCTD khác và cho vay các TCTD khác\"]\n",
    "    + df_cdkt[\"VI. Cho vay khách hàng\"]\n",
    "    + df_cdkt[\"VIII. Chứng khoán đầu tư\"]\n",
    ")\n",
    "\n",
    "# === TÍNH TÀI SẢN SINH LÃI BÌNH QUÂN ===\n",
    "df_cdkt = df_cdkt.sort_values(by=[\"Bank\", \"Quý\"]).copy()\n",
    "df_cdkt[\"TS sinh lãi quý trước\"] = df_cdkt.groupby(\"Bank\")[\"Tài sản sinh lãi\"].shift(1)\n",
    "df_cdkt[\"TS sinh lãi bình quân\"] = (\n",
    "    df_cdkt[\"Tài sản sinh lãi\"] + df_cdkt[\"TS sinh lãi quý trước\"]\n",
    ") / 2\n",
    "\n",
    "# === GỘP DỮ LIỆU KQKD VỚI CDKT ===\n",
    "df_merge = pd.merge(\n",
    "    df_kqkd,\n",
    "    df_cdkt[[\"Bank\", \"Quý\", \"TS sinh lãi bình quân\"]],\n",
    "    on=[\"Bank\", \"Quý\"],\n",
    "    how=\"inner\"\n",
    ")\n",
    "\n",
    "# === TÍNH NIM (%) ===\n",
    "df_merge[\"NIM (%)\"] = (\n",
    "    df_merge[\"I. Thu nhập lãi thuần\"] / df_merge[\"TS sinh lãi bình quân\"]\n",
    ") * 100\n",
    "\n",
    "# === CHỌN CÁC CỘT CẦN THIẾT ===\n",
    "df_nim = df_merge[[\n",
    "    \"Bank\",\n",
    "    \"Quý\",\n",
    "    \"I. Thu nhập lãi thuần\",\n",
    "    \"TS sinh lãi bình quân\",\n",
    "    \"NIM (%)\"\n",
    "]]\n",
    "\n",
    "# === LƯU KẾT QUẢ RA FILE EXCEL ===\n",
    "output_file = os.path.join(folder_path, \"NIM_theo_quy.xlsx\")\n",
    "df_nim.to_excel(output_file, index=False)\n",
    "\n",
    "print(\"✅ Đã tính xong NIM (%) và lưu vào:\", output_file)\n"
   ]
  }
 ],
 "metadata": {
  "kernelspec": {
   "display_name": "Python 3",
   "language": "python",
   "name": "python3"
  },
  "language_info": {
   "codemirror_mode": {
    "name": "ipython",
    "version": 3
   },
   "file_extension": ".py",
   "mimetype": "text/x-python",
   "name": "python",
   "nbconvert_exporter": "python",
   "pygments_lexer": "ipython3",
   "version": "3.13.5"
  }
 },
 "nbformat": 4,
 "nbformat_minor": 5
}
